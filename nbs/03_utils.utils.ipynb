{
 "cells": [
  {
   "cell_type": "markdown",
   "metadata": {},
   "source": [
    "# Misc utils"
   ]
  },
  {
   "cell_type": "code",
   "execution_count": null,
   "metadata": {},
   "outputs": [],
   "source": [
    "#| default_exp utils.utils"
   ]
  },
  {
   "cell_type": "code",
   "execution_count": null,
   "metadata": {},
   "outputs": [],
   "source": [
    "# |hide\n",
    "import nbdev; nbdev.nbdev_export()"
   ]
  },
  {
   "cell_type": "code",
   "execution_count": null,
   "metadata": {},
   "outputs": [],
   "source": [
    "# |hide\n",
    "# Stuff usef for dev/exploration purposes only.\n",
    "from nbdev.showdoc import *\n",
    "from fastcore.test import test_eq, is_close\n",
    "from lovely_numpy.utils.config import config"
   ]
  },
  {
   "cell_type": "code",
   "execution_count": null,
   "metadata": {},
   "outputs": [],
   "source": [
    "# |export\n",
    "# |hide\n",
    "import sys\n",
    "from collections import defaultdict\n",
    "import warnings\n",
    "import numpy as np\n",
    "from typing import Optional, Union\n",
    "from lovely_numpy.utils.config import get_config\n"
   ]
  },
  {
   "cell_type": "code",
   "execution_count": null,
   "metadata": {},
   "outputs": [],
   "source": [
    "# |hide\n",
    "# |export\n",
    "\n",
    "# Do we want this float in decimal or scientific mode?\n",
    "def sci_mode(f: float):\n",
    "    config = get_config()\n",
    "    return ((abs(f) < 10**config.threshold_min) or\n",
    "            (abs(f) > 10**config.threshold_max))"
   ]
  },
  {
   "cell_type": "code",
   "execution_count": null,
   "metadata": {},
   "outputs": [],
   "source": [
    "# |hide\n",
    "test_eq(sci_mode(1.), False)\n",
    "test_eq(sci_mode(0.00001), True)\n",
    "test_eq(sci_mode(10000000), True)\n",
    "\n",
    "# It would be fine either way, both `e` and `f` formats handle those.\n",
    "test_eq(sci_mode(float('nan')), False)\n",
    "test_eq(sci_mode(float('inf')), True)"
   ]
  },
  {
   "cell_type": "code",
   "execution_count": null,
   "metadata": {},
   "outputs": [
    {
     "data": {
      "text/plain": [
       "('{:.3e}', '1.230e+00')"
      ]
     },
     "execution_count": null,
     "metadata": {},
     "output_type": "execute_result"
    }
   ],
   "source": [
    "# |hide\n",
    "\n",
    "# What's happening in the cell below\n",
    "fmt = f\"{{:.{3}{'e'}}}\"\n",
    "fmt, fmt.format(1.23)"
   ]
  },
  {
   "cell_type": "code",
   "execution_count": null,
   "metadata": {},
   "outputs": [],
   "source": [
    "# |export\n",
    "\n",
    "# Convert an ndarray or scalar into a string.\n",
    "# This only looks good for small arrays, which is how it's intended to be used.\n",
    "def pretty_str(x):\n",
    "    \"\"\"A slightly better way to print `float`-y values.\n",
    "    Works for `np.ndarray`, `torch.Tensor`, `jax.DeviceArray`, and scalars.\"\"\"\n",
    "\n",
    "    if isinstance(x, int):\n",
    "        return '{}'.format(x)\n",
    "    elif isinstance(x, float):\n",
    "        if x == 0.:\n",
    "            return \"0.\"\n",
    "\n",
    "        sci = sci_mode(x) if get_config().sci_mode is None else get_config().sci_mode\n",
    "\n",
    "        fmt = f\"{{:.{get_config().precision}{'e' if sci else 'f'}}}\"\n",
    "\n",
    "        return fmt.format(x)\n",
    "    elif x.ndim == 0:\n",
    "            return pretty_str(x.item())\n",
    "    else:\n",
    "        slices = [pretty_str(x[i]) for i in range(0, x.shape[0])]\n",
    "        return '[' + \", \".join(slices) + ']'"
   ]
  },
  {
   "cell_type": "code",
   "execution_count": null,
   "metadata": {},
   "outputs": [],
   "source": [
    "# |hide\n",
    "np.random.seed(0)\n",
    "randoms = np.random.randn(100)"
   ]
  },
  {
   "cell_type": "code",
   "execution_count": null,
   "metadata": {},
   "outputs": [],
   "source": [
    "nasties = randoms[:12].copy()\n",
    "\n",
    "nasties[0] *= 10000\n",
    "nasties[1] /= 10000\n",
    "nasties[3] = float('inf')\n",
    "nasties[4] = float('-inf')\n",
    "nasties[5] = float('nan')\n",
    "nasties = nasties.reshape((2,6))"
   ]
  },
  {
   "cell_type": "code",
   "execution_count": null,
   "metadata": {},
   "outputs": [
    {
     "data": {
      "text/plain": [
       "'[[1.764e+04, 4.002e-05, 0.979, inf, -inf, nan], [0.950, -0.151, -0.103, 0.411, 0.144, 1.454]]'"
      ]
     },
     "execution_count": null,
     "metadata": {},
     "output_type": "execute_result"
    }
   ],
   "source": [
    "pretty_str(nasties)"
   ]
  },
  {
   "cell_type": "code",
   "execution_count": null,
   "metadata": {},
   "outputs": [],
   "source": [
    "test_eq(pretty_str(nasties), '[[1.764e+04, 4.002e-05, 0.979, inf, -inf, nan], [0.950, -0.151, -0.103, 0.411, 0.144, 1.454]]')"
   ]
  },
  {
   "cell_type": "code",
   "execution_count": null,
   "metadata": {},
   "outputs": [],
   "source": [
    "# |export\n",
    "def sparse_join(lst, sep=\" \"):\n",
    "    # Join non-empty list elements into a space-sepaeated string\n",
    "    return sep.join( [ l for l in lst if l] )"
   ]
  },
  {
   "cell_type": "code",
   "execution_count": null,
   "metadata": {},
   "outputs": [],
   "source": [
    "# |hide\n",
    "test_eq(sparse_join([\"Hello\", None, \"World\"]), 'Hello World')"
   ]
  },
  {
   "cell_type": "code",
   "execution_count": null,
   "metadata": {},
   "outputs": [],
   "source": [
    "# |export\n",
    "def ansi_color(s: str, col: str, use_color=True):\n",
    "        \"Very minimal ANSI color support\"\n",
    "        style = defaultdict(str)\n",
    "        style[\"grey\"] = \"\\x1b[38;2;127;127;127m\"\n",
    "        style[\"red\"] = \"\\x1b[31m\"\n",
    "        end_style = \"\\x1b[0m\"\n",
    "\n",
    "        return style[col]+s+end_style if use_color else s"
   ]
  },
  {
   "cell_type": "code",
   "execution_count": null,
   "metadata": {},
   "outputs": [
    {
     "name": "stdout",
     "output_type": "stream",
     "text": [
      "\u001b[31mHello, world!\u001b[0m Hii!\n"
     ]
    }
   ],
   "source": [
    "# |hide\n",
    "print(ansi_color(\"Hello, world!\", \"red\") + \" Hii!\")"
   ]
  },
  {
   "cell_type": "code",
   "execution_count": null,
   "metadata": {},
   "outputs": [],
   "source": [
    "# |hide\n",
    "test_eq(ansi_color(\"Hello, world\", \"red\") , \"\\x1b[31mHello, world\\x1b[0m\")"
   ]
  },
  {
   "cell_type": "code",
   "execution_count": null,
   "metadata": {},
   "outputs": [],
   "source": [
    "# |export\n",
    "def bytes_to_human(num_bytes):\n",
    "    units = ['b', 'Kb', 'Mb', 'Gb']\n",
    "\n",
    "    value = num_bytes\n",
    "    for unit in units:\n",
    "        if value < 1024 / 10:\n",
    "            break\n",
    "        value /= 1024.0\n",
    "\n",
    "    if value % 1 == 0 or value >= 10:\n",
    "        return f\"{round(value)}{unit}\"\n",
    "    else:\n",
    "        return f\"{value:.1f}{unit}\""
   ]
  },
  {
   "cell_type": "code",
   "execution_count": null,
   "metadata": {},
   "outputs": [
    {
     "name": "stdout",
     "output_type": "stream",
     "text": [
      "0.1Kb\n",
      "1Kb\n",
      "1.1Kb\n",
      "1.0Mb\n",
      "31Gb\n"
     ]
    }
   ],
   "source": [
    "print(bytes_to_human(110))     # 0.1Kb\n",
    "print(bytes_to_human(1024))    # 1Kb\n",
    "print(bytes_to_human(1150))    # 1.1Kb\n",
    "print(bytes_to_human(1024*1024+512))  # 1.0Mb\n",
    "print(bytes_to_human(1024*1024*1024*30.51)) # 31Gb"
   ]
  },
  {
   "cell_type": "code",
   "execution_count": null,
   "metadata": {},
   "outputs": [],
   "source": [
    "# |export\n",
    "def np_to_str_common(x: Union[np.ndarray, np.generic],  # Input\n",
    "                        color=True,                     # ANSI color highlighting\n",
    "                        ddof=0):                        # For \"std\" unbiasing\n",
    "\n",
    "    if x.size == 0:\n",
    "        return ansi_color(\"empty\", \"grey\", color)\n",
    "\n",
    "    zeros = ansi_color(\"all_zeros\", \"grey\", color) if np.equal(x, 0.).all() and x.size > 1 else None\n",
    "    pinf = ansi_color(\"+Inf!\", \"red\", color) if np.isposinf(x).any() else None\n",
    "    ninf = ansi_color(\"-Inf!\", \"red\", color) if np.isneginf(x).any() else None\n",
    "    nan = ansi_color(\"NaN!\", \"red\", color) if np.isnan(x).any() else None\n",
    "\n",
    "    attention = sparse_join([zeros,pinf,ninf,nan])\n",
    "\n",
    "    summary=None\n",
    "    if not zeros and isinstance(x, np.ndarray):\n",
    "        # Calculate stats on good values only.\n",
    "        gx = x[ np.isfinite(x) ]\n",
    "\n",
    "        minmax = f\"x∈[{pretty_str(gx.min())}, {pretty_str(gx.max())}]\" if gx.size > 2 else None\n",
    "        meanstd = f\"μ={pretty_str(gx.mean())} σ={pretty_str(gx.std(ddof=ddof))}\" if gx.size >= 2 else None\n",
    "        summary = sparse_join([minmax, meanstd])\n",
    "\n",
    "    return sparse_join([ summary, attention])"
   ]
  },
  {
   "cell_type": "code",
   "execution_count": null,
   "metadata": {},
   "outputs": [
    {
     "name": "stdout",
     "output_type": "stream",
     "text": [
      "x∈[-0.151, 1.764e+04] μ=1.960e+03 σ=5.544e+03 \u001b[31m+Inf!\u001b[0m \u001b[31m-Inf!\u001b[0m \u001b[31mNaN!\u001b[0m\n"
     ]
    }
   ],
   "source": [
    "with config(show_mem_above=0):\n",
    "    print(np_to_str_common(nasties))"
   ]
  },
  {
   "cell_type": "code",
   "execution_count": null,
   "metadata": {},
   "outputs": [],
   "source": [
    "# |hide\n",
    "test_eq(np_to_str_common(nasties), 'x∈[-0.151, 1.764e+04] μ=1.960e+03 σ=5.544e+03 \\x1b[31m+Inf!\\x1b[0m \\x1b[31m-Inf!\\x1b[0m \\x1b[31mNaN!\\x1b[0m')"
   ]
  },
  {
   "cell_type": "code",
   "execution_count": null,
   "metadata": {},
   "outputs": [
    {
     "data": {
      "text/plain": [
       "'x∈[1.000, 3.000] μ=2.000 σ=0.816'"
      ]
     },
     "execution_count": null,
     "metadata": {},
     "output_type": "execute_result"
    }
   ],
   "source": [
    "np_to_str_common(np.array([1., 2, 3]))"
   ]
  },
  {
   "cell_type": "code",
   "execution_count": null,
   "metadata": {},
   "outputs": [],
   "source": [
    "# |export\n",
    "def history_warning():\n",
    "    \"Issue a warning (once) ifw e are running in IPYthon with output cache enabled\"\n",
    "    if \"get_ipython\" in globals() and get_ipython().cache_size > 0:\n",
    "        warnings.warn(\"IPYthon has its output cache enabled. See https://xl0.github.io/lovely-tensors/history.html\")"
   ]
  },
  {
   "cell_type": "code",
   "execution_count": null,
   "metadata": {},
   "outputs": [
    {
     "name": "stderr",
     "output_type": "stream",
     "text": [
      "/tmp/ipykernel_179604/2880814502.py:5: UserWarning: IPYthon has its output cache enabled. See https://xl0.github.io/lovely-tensors/history.html\n",
      "  warnings.warn(\"IPYthon has its output cache enabled. See https://xl0.github.io/lovely-tensors/history.html\")\n"
     ]
    }
   ],
   "source": [
    "# |hide\n",
    "get_ipython().cache_size=1000\n",
    "history_warning()\n",
    "get_ipython().cache_size=0"
   ]
  },
  {
   "cell_type": "code",
   "execution_count": null,
   "metadata": {},
   "outputs": [],
   "source": [
    "# |exporti\n",
    "\n",
    "# functools.cached_property is not available in python < 3.8\n",
    "\n",
    "assert sys.version_info.major == 3 # Python 4 some day?\n",
    "\n",
    "if sys.version_info.minor < 8:\n",
    "    class cached_property:\n",
    "        attrname: str\n",
    "        def __init__(self, func):\n",
    "            self.func = func\n",
    "\n",
    "        def __set_name__(self, owner, name):\n",
    "            self.attrname = name\n",
    "\n",
    "        def __get__(self, instance, owner=None):\n",
    "            if hasattr(instance, \"_cache_\" + self.attrname):\n",
    "                return getattr(instance, \"_cache_\" + self.attrname)\n",
    "            else:\n",
    "                x = self.func(instance)\n",
    "                setattr(instance, \"_cache_\" + self.attrname, x)\n",
    "                return x\n",
    "else:\n",
    "    from functools import cached_property\n"
   ]
  },
  {
   "cell_type": "code",
   "execution_count": null,
   "metadata": {},
   "outputs": [],
   "source": [
    "class Test:\n",
    "    @cached_property\n",
    "    def test(self):\n",
    "        print(\"property call \")\n",
    "        return 123\n",
    "\n",
    "    def __repr__(self):\n",
    "        return \"Test object\""
   ]
  },
  {
   "cell_type": "code",
   "execution_count": null,
   "metadata": {},
   "outputs": [
    {
     "name": "stdout",
     "output_type": "stream",
     "text": [
      "property call \n",
      "123\n",
      "123\n"
     ]
    },
    {
     "data": {
      "text/plain": [
       "Test object"
      ]
     },
     "execution_count": null,
     "metadata": {},
     "output_type": "execute_result"
    }
   ],
   "source": [
    "t=Test()\n",
    "print(t.test)\n",
    "print(t.test)\n",
    "t"
   ]
  },
  {
   "cell_type": "code",
   "execution_count": null,
   "metadata": {},
   "outputs": [],
   "source": [
    "# |export\n",
    "def in_debugger():\n",
    "    \"\"\"Returns True if a debugger was used.\n",
    "\n",
    "    Note: This funciton will keep returning True even after you exit the debugger.\"\"\"\n",
    "    return getattr(sys, \"gettrace\", None) and sys.gettrace() is not None"
   ]
  },
  {
   "cell_type": "code",
   "execution_count": null,
   "metadata": {},
   "outputs": [],
   "source": [
    "test_eq(in_debugger(), False)"
   ]
  }
 ],
 "metadata": {
  "kernelspec": {
   "display_name": "python3",
   "language": "python",
   "name": "python3"
  }
 },
 "nbformat": 4,
 "nbformat_minor": 4
}
