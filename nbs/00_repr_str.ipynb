{
 "cells": [
  {
   "cell_type": "markdown",
   "metadata": {},
   "source": [
    "# 🧾 View as a summary"
   ]
  },
  {
   "cell_type": "code",
   "execution_count": null,
   "metadata": {},
   "outputs": [],
   "source": [
    "#| default_exp repr_str"
   ]
  },
  {
   "cell_type": "code",
   "execution_count": null,
   "metadata": {},
   "outputs": [],
   "source": [
    "#| hide\n",
    "import nbdev; nbdev.nbdev_export()"
   ]
  },
  {
   "cell_type": "code",
   "execution_count": null,
   "metadata": {},
   "outputs": [],
   "source": [
    "# |hide\n",
    "from nbdev.showdoc import *\n",
    "from fastcore.test import test_eq"
   ]
  },
  {
   "cell_type": "code",
   "execution_count": null,
   "metadata": {},
   "outputs": [],
   "source": [
    "#| hide\n",
    "#| export\n",
    "from typing import Union, Optional as O\n",
    "from collections import defaultdict\n",
    "from fastcore.foundation import store_attr\n",
    "import warnings\n",
    "import numpy as np\n",
    "\n",
    "from lovely_numpy.utils import pretty_str, sparse_join, np_to_str_common, in_debugger, bytes_to_human\n",
    "from lovely_numpy.utils.config import get_config, set_config, config"
   ]
  },
  {
   "cell_type": "code",
   "execution_count": null,
   "metadata": {},
   "outputs": [],
   "source": [
    "# |hide\n",
    "np.random.seed(0)\n",
    "randoms = np.random.randn(100)"
   ]
  },
  {
   "cell_type": "code",
   "execution_count": null,
   "metadata": {},
   "outputs": [],
   "source": [
    "# |exporti\n",
    "dtnames =   {   \"float16\": \"f16\",\n",
    "                \"float32\": \"f32\",\n",
    "                \"float64\": \"\", # Default dtype in numpy\n",
    "                \"uint8\": \"u8\",\n",
    "                \"uint16\": \"u16\",\n",
    "                \"uint32\": \"u32\",\n",
    "                \"uint64\": \"u64\",\n",
    "                \"int8\": \"i8\",\n",
    "                \"int16\": \"i16\",\n",
    "                \"int32\": \"i32\",\n",
    "                \"int64\": \"i64\",\n",
    "            }\n",
    "\n",
    "def short_dtype(x: Union[np.ndarray, np.generic]):\n",
    "    return dtnames.get(x.dtype.name, str(x.dtype))"
   ]
  },
  {
   "cell_type": "code",
   "execution_count": null,
   "metadata": {},
   "outputs": [],
   "source": [
    "# |hide\n",
    "test_eq(short_dtype(np.array(1., dtype=np.float16)), \"f16\")"
   ]
  },
  {
   "cell_type": "markdown",
   "metadata": {},
   "source": [
    "## Pretty printing"
   ]
  },
  {
   "cell_type": "code",
   "execution_count": null,
   "metadata": {},
   "outputs": [],
   "source": [
    "# |exporti\n",
    "def plain_repr(x):\n",
    "    with config(repr=None):\n",
    "        return repr(x)"
   ]
  },
  {
   "cell_type": "code",
   "execution_count": null,
   "metadata": {},
   "outputs": [],
   "source": [
    "# |export\n",
    "\n",
    "def lovely( x       :Union[np.ndarray, np.generic], # The data you want to explore\n",
    "            plain   :bool   =False,                 # Plain old way\n",
    "            verbose :bool   =False,                 # Both summaty and plain\n",
    "            depth   :int    =0,                     # Show deeper summary, up to `depth`\n",
    "            lvl     :int    =0,                     # Indentation level\n",
    "            color   :O[bool]=None                   # Override `get_config().color`\n",
    "            ) -> str:                               # The summary\n",
    "\n",
    "    \"Pretty-print the stats of a numpy array or scalar\"\n",
    "\n",
    "    if plain or not isinstance(x, (np.ndarray, np.generic)) or np.iscomplexobj(x) or not np.issubdtype(x.dtype, np.number):\n",
    "        return plain_repr(x)\n",
    "\n",
    "    conf = get_config()\n",
    "\n",
    "    if isinstance(x, np.generic):\n",
    "        tname = None\n",
    "    else:\n",
    "        tname = \"array\" if type(x) == np.ndarray else type(x).__name__.split(\".\")[-1]\n",
    "\n",
    "    shape = str(list(x.shape)) if x.ndim else None\n",
    "    type_str = sparse_join([tname, shape], sep=\"\")\n",
    "\n",
    "    color = get_config().color if color is None else color\n",
    "    if in_debugger(): color = False\n",
    "\n",
    "    numel = None\n",
    "    if x.shape and max(x.shape) != x.size:\n",
    "        numel = f\"n={x.size}\"\n",
    "        if get_config().show_mem_above <= x.nbytes:\n",
    "            numel = sparse_join([numel, f\"({bytes_to_human(x.nbytes)})\"])\n",
    "    elif get_config().show_mem_above <= x.nbytes:\n",
    "        numel = bytes_to_human(x.nbytes)\n",
    "\n",
    "    common = np_to_str_common(x, color=color)\n",
    "    dtype = short_dtype(x)\n",
    "\n",
    "    vals = pretty_str(x) if 0 < x.size <= 10 else None\n",
    "    res = sparse_join([type_str, dtype, numel, common, vals])\n",
    "\n",
    "    if verbose:\n",
    "        res += \"\\n\" + plain_repr(x)\n",
    "\n",
    "    if depth and x.ndim > 1:\n",
    "        deep_width = min(x.shape[0], conf.deeper_width) # Print at most this many lines\n",
    "        with config(show_mem_above=np.inf):\n",
    "            deep_lines = [ \" \"*conf.indent*(lvl+1) + lovely(x[i,:], depth=depth-1, lvl=lvl+1)\n",
    "                                for i in range(deep_width)]\n",
    "\n",
    "            # If we were limited by width, print ...\n",
    "            if deep_width < x.shape[0]: deep_lines.append(\" \"*conf.indent*(lvl+1) + \"...\")\n",
    "\n",
    "            res += \"\\n\" + \"\\n\".join(deep_lines)\n",
    "\n",
    "    return res"
   ]
  },
  {
   "cell_type": "code",
   "execution_count": null,
   "metadata": {},
   "outputs": [
    {
     "data": {
      "text/markdown": [
       "---\n",
       "\n",
       "[source](https://github.com/xl0/lovely-numpy/blob/master/lovely_numpy/repr_str.py#L39){target=\"_blank\" style=\"float:right; font-size:smaller\"}\n",
       "\n",
       "### lovely\n",
       "\n",
       ">      lovely (x:Union[numpy.ndarray,numpy.generic], plain:bool=False,\n",
       ">              verbose:bool=False, depth:int=0, lvl:int=0,\n",
       ">              color:Optional[bool]=None)\n",
       "\n",
       "Pretty-print the stats of a numpy array or scalar\n",
       "\n",
       "|    | **Type** | **Default** | **Details** |\n",
       "| -- | -------- | ----------- | ----------- |\n",
       "| x | Union |  | The data you want to explore |\n",
       "| plain | bool | False | Plain old way |\n",
       "| verbose | bool | False | Both summaty and plain |\n",
       "| depth | int | 0 | Show deeper summary, up to `depth` |\n",
       "| lvl | int | 0 | Indentation level |\n",
       "| color | Optional | None | Override `get_config().color` |\n",
       "| **Returns** | **str** |  | **The summary** |"
      ],
      "text/plain": [
       "---\n",
       "\n",
       "[source](https://github.com/xl0/lovely-numpy/blob/master/lovely_numpy/repr_str.py#L39){target=\"_blank\" style=\"float:right; font-size:smaller\"}\n",
       "\n",
       "### lovely\n",
       "\n",
       ">      lovely (x:Union[numpy.ndarray,numpy.generic], plain:bool=False,\n",
       ">              verbose:bool=False, depth:int=0, lvl:int=0,\n",
       ">              color:Optional[bool]=None)\n",
       "\n",
       "Pretty-print the stats of a numpy array or scalar\n",
       "\n",
       "|    | **Type** | **Default** | **Details** |\n",
       "| -- | -------- | ----------- | ----------- |\n",
       "| x | Union |  | The data you want to explore |\n",
       "| plain | bool | False | Plain old way |\n",
       "| verbose | bool | False | Both summaty and plain |\n",
       "| depth | int | 0 | Show deeper summary, up to `depth` |\n",
       "| lvl | int | 0 | Indentation level |\n",
       "| color | Optional | None | Override `get_config().color` |\n",
       "| **Returns** | **str** |  | **The summary** |"
      ]
     },
     "execution_count": null,
     "metadata": {},
     "output_type": "execute_result"
    }
   ],
   "source": [
    "show_doc(lovely)"
   ]
  },
  {
   "cell_type": "markdown",
   "metadata": {},
   "source": [
    "### Examples "
   ]
  },
  {
   "cell_type": "code",
   "execution_count": null,
   "metadata": {},
   "outputs": [],
   "source": [
    "nasties = randoms[:12].copy()\n",
    "\n",
    "nasties[0] *= 10000\n",
    "nasties[1] /= 10000\n",
    "nasties[3] = float('inf')\n",
    "nasties[4] = float('-inf')\n",
    "nasties[5] = float('nan')\n",
    "nasties = nasties.reshape((2,6))"
   ]
  },
  {
   "cell_type": "code",
   "execution_count": null,
   "metadata": {},
   "outputs": [
    {
     "name": "stdout",
     "output_type": "stream",
     "text": [
      "array[2, 6] n=12 x∈[-0.151, 1.764e+04] μ=1.960e+03 σ=5.544e+03 \u001b[31m+Inf!\u001b[0m \u001b[31m-Inf!\u001b[0m \u001b[31mNaN!\u001b[0m\n"
     ]
    }
   ],
   "source": [
    "print(lovely(nasties))"
   ]
  },
  {
   "cell_type": "code",
   "execution_count": null,
   "metadata": {},
   "outputs": [
    {
     "name": "stdout",
     "output_type": "stream",
     "text": [
      "1.764\n",
      "array[2] μ=1.082 σ=0.682 [1.764, 0.400]\n",
      "array[2, 3] n=6 x∈[-0.977, 2.241] μ=1.046 σ=1.090 [[1.764, 0.400, 0.979], [2.241, 1.868, -0.977]]\n",
      "array[11] x∈[-0.977, 2.241] μ=0.684 σ=0.938\n"
     ]
    }
   ],
   "source": [
    "print(lovely(randoms[0]))\n",
    "print(lovely(randoms[:2]))\n",
    "print(lovely(randoms[:6].reshape(2, 3))) # More than 2 elements -> show statistics\n",
    "print(lovely(randoms[:11])) # More than 10 -> don't show values\n"
   ]
  },
  {
   "cell_type": "code",
   "execution_count": null,
   "metadata": {},
   "outputs": [],
   "source": [
    "# |hide\n",
    "test_eq(str(lovely(randoms[0])), \"1.764\")\n",
    "test_eq(str(lovely(randoms[:2])), \"array[2] μ=1.082 σ=0.682 [1.764, 0.400]\")\n",
    "test_eq(str(lovely(randoms[:6].reshape(2, 3))), \"array[2, 3] n=6 x∈[-0.977, 2.241] μ=1.046 σ=1.090 [[1.764, 0.400, 0.979], [2.241, 1.868, -0.977]]\")\n",
    "test_eq(str(lovely(randoms[:11])), \"array[11] x∈[-0.977, 2.241] μ=0.684 σ=0.938\")"
   ]
  },
  {
   "cell_type": "markdown",
   "metadata": {},
   "source": [
    "Do we have __any__ floating point nasties? Are the values __all__ zeros?"
   ]
  },
  {
   "cell_type": "code",
   "execution_count": null,
   "metadata": {},
   "outputs": [
    {
     "name": "stdout",
     "output_type": "stream",
     "text": [
      "array[2, 6] n=12 x∈[-0.151, 1.764e+04] μ=1.960e+03 σ=5.544e+03 \u001b[31m+Inf!\u001b[0m \u001b[31m-Inf!\u001b[0m \u001b[31mNaN!\u001b[0m\n"
     ]
    }
   ],
   "source": [
    "# Statistics and range are calculated on good values only, if there are at lest 3 of them.\n",
    "print(lovely(nasties))"
   ]
  },
  {
   "cell_type": "code",
   "execution_count": null,
   "metadata": {},
   "outputs": [],
   "source": [
    "# |hide\n",
    "test_eq(str(lovely(nasties)),\n",
    "        'array[2, 6] n=12 x∈[-0.151, 1.764e+04] μ=1.960e+03 σ=5.544e+03 \\x1b[31m+Inf!\\x1b[0m \\x1b[31m-Inf!\\x1b[0m \\x1b[31mNaN!\\x1b[0m')"
   ]
  },
  {
   "cell_type": "code",
   "execution_count": null,
   "metadata": {},
   "outputs": [
    {
     "name": "stdout",
     "output_type": "stream",
     "text": [
      "array[2, 6] n=12 x∈[-0.151, 1.764e+04] μ=1.960e+03 σ=5.544e+03 +Inf! -Inf! NaN!\n"
     ]
    }
   ],
   "source": [
    "print(lovely(nasties, color=False))"
   ]
  },
  {
   "cell_type": "code",
   "execution_count": null,
   "metadata": {},
   "outputs": [
    {
     "name": "stdout",
     "output_type": "stream",
     "text": [
      "array[11] \u001b[31mNaN!\u001b[0m\n"
     ]
    }
   ],
   "source": [
    "print(lovely(np.array([float(\"nan\")]*11)))"
   ]
  },
  {
   "cell_type": "code",
   "execution_count": null,
   "metadata": {},
   "outputs": [],
   "source": [
    "# |hide\n",
    "test_eq(str(lovely(np.array([float(\"nan\")]*11))),\n",
    "        'array[11] \\x1b[31mNaN!\\x1b[0m')"
   ]
  },
  {
   "cell_type": "code",
   "execution_count": null,
   "metadata": {},
   "outputs": [
    {
     "name": "stdout",
     "output_type": "stream",
     "text": [
      "array[12] f16 \u001b[38;2;127;127;127mall_zeros\u001b[0m\n",
      "array[0] i64 \u001b[38;2;127;127;127mempty\u001b[0m\n"
     ]
    }
   ],
   "source": [
    "print(lovely(np.zeros(12, dtype=np.float16)))\n",
    "print(lovely(np.array([], dtype=int)))"
   ]
  },
  {
   "cell_type": "code",
   "execution_count": null,
   "metadata": {},
   "outputs": [],
   "source": [
    "# |hide\n",
    "test_eq(str(lovely(np.zeros(12, dtype=np.float16))), 'array[12] f16 \\x1b[38;2;127;127;127mall_zeros\\x1b[0m')\n",
    "test_eq(str(lovely(np.array([], dtype=int))), 'array[0] i64 \\x1b[38;2;127;127;127mempty\\x1b[0m')"
   ]
  },
  {
   "cell_type": "code",
   "execution_count": null,
   "metadata": {},
   "outputs": [
    {
     "data": {
      "text/plain": [
       "'array[0] i64 \\x1b[38;2;127;127;127mempty\\x1b[0m'"
      ]
     },
     "execution_count": null,
     "metadata": {},
     "output_type": "execute_result"
    }
   ],
   "source": [
    "str(lovely(np.array([], dtype=int)))"
   ]
  },
  {
   "cell_type": "code",
   "execution_count": null,
   "metadata": {},
   "outputs": [
    {
     "name": "stdout",
     "output_type": "stream",
     "text": [
      "array[2, 6] n=12 x∈[-0.151, 1.764e+04] μ=1.960e+03 σ=5.544e+03 \u001b[31m+Inf!\u001b[0m \u001b[31m-Inf!\u001b[0m \u001b[31mNaN!\u001b[0m\n",
      "array([[ 1.764e+04,  4.002e-05,  9.787e-01,        inf,       -inf,\n",
      "               nan],\n",
      "       [ 9.501e-01, -1.514e-01, -1.032e-01,  4.106e-01,  1.440e-01,\n",
      "         1.454e+00]])\n"
     ]
    }
   ],
   "source": [
    "np.set_printoptions(precision=3)\n",
    "print(lovely(nasties, verbose=True))"
   ]
  },
  {
   "cell_type": "code",
   "execution_count": null,
   "metadata": {},
   "outputs": [
    {
     "name": "stdout",
     "output_type": "stream",
     "text": [
      "array([[ 1.764e+04,  4.002e-05,  9.787e-01,        inf,       -inf,\n",
      "               nan],\n",
      "       [ 9.501e-01, -1.514e-01, -1.032e-01,  4.106e-01,  1.440e-01,\n",
      "         1.454e+00]])\n"
     ]
    }
   ],
   "source": [
    "print(lovely(nasties, plain=True))"
   ]
  },
  {
   "cell_type": "code",
   "execution_count": null,
   "metadata": {},
   "outputs": [
    {
     "name": "stdout",
     "output_type": "stream",
     "text": [
      "array[3, 196, 196] f32 n=115248 (0.4Mb) x∈[-2.118, 2.640] μ=-0.388 σ=1.073 \u001b[31mNaN!\u001b[0m\n",
      "  array[196, 196] f32 n=38416 x∈[-2.118, 2.249] μ=-0.324 σ=1.036\n",
      "  array[196, 196] f32 n=38416 x∈[-1.966, 2.429] μ=-0.274 σ=0.973 \u001b[31mNaN!\u001b[0m\n",
      "  array[196, 196] f32 n=38416 x∈[-1.804, 2.640] μ=-0.567 σ=1.178\n"
     ]
    }
   ],
   "source": [
    "image = np.load(\"mysteryman.npy\")\n",
    "image[1,100,100] = float('nan')\n",
    "\n",
    "print(lovely(image, depth=1))"
   ]
  },
  {
   "cell_type": "code",
   "execution_count": null,
   "metadata": {},
   "outputs": [
    {
     "name": "stdout",
     "output_type": "stream",
     "text": [
      "array([ 1.883-1.27j , -1.348+0.969j])\n"
     ]
    }
   ],
   "source": [
    "# We don't really supposed complex numbers yet\n",
    "c = np.random.randn(2) + 1j*np.random.randn(2)\n",
    "print(lovely(c))"
   ]
  },
  {
   "cell_type": "code",
   "execution_count": null,
   "metadata": {},
   "outputs": [
    {
     "name": "stdout",
     "output_type": "stream",
     "text": [
      "array(['a', 'b', 'c'], dtype='<U1')\n",
      "array([{}, {'a': 1}, {'b': 2, 'c': 3}], dtype=object)\n"
     ]
    }
   ],
   "source": [
    "# Other weirs stuff\n",
    "\n",
    "w = np.array([\"a\", \"b\", \"c\"])\n",
    "print(lovely(w))\n",
    "\n",
    "z = np.array([{}, {\"a\": 1}, {\"b\": 2, \"c\": 3}])\n",
    "print(lovely(z))"
   ]
  },
  {
   "cell_type": "code",
   "execution_count": null,
   "metadata": {},
   "outputs": [],
   "source": [
    "i = np.array([1, 2, 3])\n",
    "test_eq(str(lovely(i)), \"array[3] i64 x∈[1, 3] μ=2.000 σ=0.816 [1, 2, 3]\")"
   ]
  },
  {
   "cell_type": "code",
   "execution_count": null,
   "metadata": {},
   "outputs": [],
   "source": [
    "set_config(repr=lovely, str=None)"
   ]
  },
  {
   "cell_type": "code",
   "execution_count": null,
   "metadata": {},
   "outputs": [
    {
     "data": {
      "text/plain": [
       "array[3] i64 x∈[1, 3] μ=2.000 σ=0.816 [1, 2, 3]"
      ]
     },
     "execution_count": null,
     "metadata": {},
     "output_type": "execute_result"
    }
   ],
   "source": [
    "np.array([1,2,3])"
   ]
  },
  {
   "cell_type": "code",
   "execution_count": null,
   "metadata": {},
   "outputs": [],
   "source": [
    "# |hide\n",
    "test_eq(repr(np.array([1,2,3])),\n",
    "        'array[3] i64 x∈[1, 3] μ=2.000 σ=0.816 [1, 2, 3]')"
   ]
  },
  {
   "cell_type": "code",
   "execution_count": null,
   "metadata": {},
   "outputs": [
    {
     "name": "stdout",
     "output_type": "stream",
     "text": [
      "array([1, 2, 3])\n"
     ]
    }
   ],
   "source": [
    "# |hide\n",
    "with config(repr=None):\n",
    "    test_eq(repr(np.array([1,2,3])), 'array([1, 2, 3])')\n",
    "    print(repr(np.array([1, 2, 3])))"
   ]
  },
  {
   "cell_type": "code",
   "execution_count": null,
   "metadata": {},
   "outputs": [
    {
     "data": {
      "text/plain": [
       "array[3] i64 x∈[1, 3] μ=2.000 σ=0.816 [1, 2, 3]"
      ]
     },
     "execution_count": null,
     "metadata": {},
     "output_type": "execute_result"
    }
   ],
   "source": [
    "# |hide\n",
    "test_eq(repr(np.array([1,2,3])),\n",
    "        'array[3] i64 x∈[1, 3] μ=2.000 σ=0.816 [1, 2, 3]')\n",
    "np.array([1,2,3])"
   ]
  }
 ],
 "metadata": {
  "kernelspec": {
   "display_name": "python3",
   "language": "python",
   "name": "python3"
  }
 },
 "nbformat": 4,
 "nbformat_minor": 4
}
